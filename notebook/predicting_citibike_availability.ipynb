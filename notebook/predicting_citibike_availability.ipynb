{
 "cells": [
  {
   "cell_type": "markdown",
   "metadata": {},
   "source": [
    "# Predicting Citi Bike Availability"
   ]
  },
  {
   "cell_type": "markdown",
   "metadata": {},
   "source": [
    "The Citi Bike app tells us how many bikes there are at a station at a given time. Can we use historical usage data to predict bike availability in the future?\n",
    "\n",
    "**Hypothesis:**\n",
    "\n",
    "Future bike availability can be determined based on time of day, season, and type of day. \n",
    "\n",
    "**Data Cleaning Approach:**\n",
    "\n",
    "Transform starttime/stoptime features to hourly intervals, seasons (Summer, Spring, Winter, Fall), and type of day (weekday/weekend).  \n",
    "\n",
    "**Assumptions:**\n",
    "1. There are no significant changes in bike usage on different weekdays (eg. Monday has same usage patterns as Friday)\n",
    "2. There are no significant changes in bike usage within a season (eg. early spring has same usage patterns as late spring)\n",
    "\n",
    "**To be included:**\n",
    "1. Holidays as type of day\n",
    "2. Weather data\n"
   ]
  },
  {
   "cell_type": "code",
   "execution_count": 1,
   "metadata": {
    "collapsed": false
   },
   "outputs": [],
   "source": [
    "import pandas as pd\n",
    "import numpy as np\n",
    "import datetime\n",
    "import matplotlib.pyplot as plt\n",
    "%matplotlib inline\n",
    "import seaborn as sns"
   ]
  },
  {
   "cell_type": "code",
   "execution_count": 2,
   "metadata": {
    "collapsed": false
   },
   "outputs": [],
   "source": [
    "def date_format(dt):\n",
    "    #Converts to datetime\n",
    "    try:\n",
    "        return datetime.datetime.strptime(dt,'%m/%d/%Y %H:%M:%S')\n",
    "    except:\n",
    "        return datetime.datetime.strptime(dt,'%m/%d/%Y %H:%M')"
   ]
  },
  {
   "cell_type": "code",
   "execution_count": 3,
   "metadata": {
    "collapsed": false
   },
   "outputs": [],
   "source": [
    "df201602 = pd.read_csv('../assets/201602-citibike-tripdata.csv', parse_dates=['starttime','stoptime'],date_parser=date_format)\n",
    "df201601 = pd.read_csv('../assets/201601-citibike-tripdata.csv', parse_dates=['starttime','stoptime'],date_parser=date_format)\n",
    "df201512 = pd.read_csv('../assets/201512-citibike-tripdata.csv', parse_dates=['starttime','stoptime'],date_parser=date_format)\n",
    "df201511 = pd.read_csv('../assets/201511-citibike-tripdata.csv', parse_dates=['starttime','stoptime'],date_parser=date_format)\n",
    "df201510 = pd.read_csv('../assets/201510-citibike-tripdata.csv', parse_dates=['starttime','stoptime'],date_parser=date_format)\n",
    "df201509 = pd.read_csv('../assets/201509-citibike-tripdata.csv', parse_dates=['starttime','stoptime'],date_parser=date_format)\n",
    "df201508 = pd.read_csv('../assets/201508-citibike-tripdata.csv', parse_dates=['starttime','stoptime'],date_parser=date_format)\n",
    "df201507 = pd.read_csv('../assets/201507-citibike-tripdata.csv', parse_dates=['starttime','stoptime'],date_parser=date_format)\n",
    "df201506 = pd.read_csv('../assets/201506-citibike-tripdata.csv', parse_dates=['starttime','stoptime'],date_parser=date_format)\n",
    "df201505 = pd.read_csv('../assets/201505-citibike-tripdata.csv', parse_dates=['starttime','stoptime'],date_parser=date_format)\n",
    "df201504 = pd.read_csv('../assets/201504-citibike-tripdata.csv', parse_dates=['starttime','stoptime'],date_parser=date_format)\n",
    "df201503 = pd.read_csv('../assets/201503-citibike-tripdata.csv', parse_dates=['starttime','stoptime'],date_parser=date_format)"
   ]
  },
  {
   "cell_type": "code",
   "execution_count": 4,
   "metadata": {
    "collapsed": true
   },
   "outputs": [],
   "source": [
    "#Using Citi Bike data from March 2015 to February 2016\n",
    "frames = [df201602, df201601, df201512, df201511, df201510, df201509, df201508, df201507, \n",
    "          df201506, df201505, df201504, df201503]"
   ]
  },
  {
   "cell_type": "code",
   "execution_count": 5,
   "metadata": {
    "collapsed": true
   },
   "outputs": [],
   "source": [
    "df = pd.concat(frames)"
   ]
  },
  {
   "cell_type": "code",
   "execution_count": 6,
   "metadata": {
    "collapsed": false
   },
   "outputs": [
    {
     "data": {
      "text/html": [
       "<div>\n",
       "<table border=\"1\" class=\"dataframe\">\n",
       "  <thead>\n",
       "    <tr style=\"text-align: right;\">\n",
       "      <th></th>\n",
       "      <th>tripduration</th>\n",
       "      <th>starttime</th>\n",
       "      <th>stoptime</th>\n",
       "      <th>start station id</th>\n",
       "      <th>start station name</th>\n",
       "      <th>start station latitude</th>\n",
       "      <th>start station longitude</th>\n",
       "      <th>end station id</th>\n",
       "      <th>end station name</th>\n",
       "      <th>end station latitude</th>\n",
       "      <th>end station longitude</th>\n",
       "      <th>bikeid</th>\n",
       "      <th>usertype</th>\n",
       "      <th>birth year</th>\n",
       "      <th>gender</th>\n",
       "    </tr>\n",
       "  </thead>\n",
       "  <tbody>\n",
       "    <tr>\n",
       "      <th>0</th>\n",
       "      <td>461</td>\n",
       "      <td>2016-02-01 00:00:08</td>\n",
       "      <td>2016-02-01 00:07:49</td>\n",
       "      <td>480</td>\n",
       "      <td>W 53 St &amp; 10 Ave</td>\n",
       "      <td>40.766697</td>\n",
       "      <td>-73.990617</td>\n",
       "      <td>524</td>\n",
       "      <td>W 43 St &amp; 6 Ave</td>\n",
       "      <td>40.755273</td>\n",
       "      <td>-73.983169</td>\n",
       "      <td>23292</td>\n",
       "      <td>Subscriber</td>\n",
       "      <td>1966.0</td>\n",
       "      <td>1</td>\n",
       "    </tr>\n",
       "    <tr>\n",
       "      <th>1</th>\n",
       "      <td>297</td>\n",
       "      <td>2016-02-01 00:00:56</td>\n",
       "      <td>2016-02-01 00:05:53</td>\n",
       "      <td>463</td>\n",
       "      <td>9 Ave &amp; W 16 St</td>\n",
       "      <td>40.742065</td>\n",
       "      <td>-74.004432</td>\n",
       "      <td>380</td>\n",
       "      <td>W 4 St &amp; 7 Ave S</td>\n",
       "      <td>40.734011</td>\n",
       "      <td>-74.002939</td>\n",
       "      <td>15329</td>\n",
       "      <td>Subscriber</td>\n",
       "      <td>1977.0</td>\n",
       "      <td>1</td>\n",
       "    </tr>\n",
       "    <tr>\n",
       "      <th>2</th>\n",
       "      <td>280</td>\n",
       "      <td>2016-02-01 00:01:00</td>\n",
       "      <td>2016-02-01 00:05:40</td>\n",
       "      <td>3134</td>\n",
       "      <td>3 Ave &amp; E 62 St</td>\n",
       "      <td>40.763126</td>\n",
       "      <td>-73.965269</td>\n",
       "      <td>3141</td>\n",
       "      <td>1 Ave &amp; E 68 St</td>\n",
       "      <td>40.765005</td>\n",
       "      <td>-73.958185</td>\n",
       "      <td>22927</td>\n",
       "      <td>Subscriber</td>\n",
       "      <td>1987.0</td>\n",
       "      <td>1</td>\n",
       "    </tr>\n",
       "    <tr>\n",
       "      <th>3</th>\n",
       "      <td>662</td>\n",
       "      <td>2016-02-01 00:01:00</td>\n",
       "      <td>2016-02-01 00:12:02</td>\n",
       "      <td>537</td>\n",
       "      <td>Lexington Ave &amp; E 24 St</td>\n",
       "      <td>40.740259</td>\n",
       "      <td>-73.984092</td>\n",
       "      <td>428</td>\n",
       "      <td>E 3 St &amp; 1 Ave</td>\n",
       "      <td>40.724677</td>\n",
       "      <td>-73.987834</td>\n",
       "      <td>20903</td>\n",
       "      <td>Subscriber</td>\n",
       "      <td>1983.0</td>\n",
       "      <td>2</td>\n",
       "    </tr>\n",
       "    <tr>\n",
       "      <th>4</th>\n",
       "      <td>355</td>\n",
       "      <td>2016-02-01 00:01:41</td>\n",
       "      <td>2016-02-01 00:07:36</td>\n",
       "      <td>284</td>\n",
       "      <td>Greenwich Ave &amp; 8 Ave</td>\n",
       "      <td>40.739017</td>\n",
       "      <td>-74.002638</td>\n",
       "      <td>521</td>\n",
       "      <td>8 Ave &amp; W 31 St</td>\n",
       "      <td>40.750967</td>\n",
       "      <td>-73.994442</td>\n",
       "      <td>23228</td>\n",
       "      <td>Subscriber</td>\n",
       "      <td>1978.0</td>\n",
       "      <td>1</td>\n",
       "    </tr>\n",
       "  </tbody>\n",
       "</table>\n",
       "</div>"
      ],
      "text/plain": [
       "   tripduration           starttime            stoptime  start station id  \\\n",
       "0           461 2016-02-01 00:00:08 2016-02-01 00:07:49               480   \n",
       "1           297 2016-02-01 00:00:56 2016-02-01 00:05:53               463   \n",
       "2           280 2016-02-01 00:01:00 2016-02-01 00:05:40              3134   \n",
       "3           662 2016-02-01 00:01:00 2016-02-01 00:12:02               537   \n",
       "4           355 2016-02-01 00:01:41 2016-02-01 00:07:36               284   \n",
       "\n",
       "        start station name  start station latitude  start station longitude  \\\n",
       "0         W 53 St & 10 Ave               40.766697               -73.990617   \n",
       "1          9 Ave & W 16 St               40.742065               -74.004432   \n",
       "2          3 Ave & E 62 St               40.763126               -73.965269   \n",
       "3  Lexington Ave & E 24 St               40.740259               -73.984092   \n",
       "4    Greenwich Ave & 8 Ave               40.739017               -74.002638   \n",
       "\n",
       "   end station id  end station name  end station latitude  \\\n",
       "0             524   W 43 St & 6 Ave             40.755273   \n",
       "1             380  W 4 St & 7 Ave S             40.734011   \n",
       "2            3141   1 Ave & E 68 St             40.765005   \n",
       "3             428    E 3 St & 1 Ave             40.724677   \n",
       "4             521   8 Ave & W 31 St             40.750967   \n",
       "\n",
       "   end station longitude  bikeid    usertype  birth year  gender  \n",
       "0             -73.983169   23292  Subscriber      1966.0       1  \n",
       "1             -74.002939   15329  Subscriber      1977.0       1  \n",
       "2             -73.958185   22927  Subscriber      1987.0       1  \n",
       "3             -73.987834   20903  Subscriber      1983.0       2  \n",
       "4             -73.994442   23228  Subscriber      1978.0       1  "
      ]
     },
     "execution_count": 6,
     "metadata": {},
     "output_type": "execute_result"
    }
   ],
   "source": [
    "df.head()"
   ]
  },
  {
   "cell_type": "code",
   "execution_count": 7,
   "metadata": {
    "collapsed": false
   },
   "outputs": [],
   "source": [
    "df.columns = [i.strip().replace(' ', '_') for i in df.columns]"
   ]
  },
  {
   "cell_type": "markdown",
   "metadata": {},
   "source": [
    "# Determining number of bikes / bike availability"
   ]
  },
  {
   "cell_type": "markdown",
   "metadata": {},
   "source": [
    "Looking at the dataset, the biggest issue is that it is missing a feature indicating number of bikes available or if there is a bike available at the station. However, the data does include details on when bikes are parked and removed from a station which could be used to make estimations on bike availability:"
   ]
  },
  {
   "cell_type": "code",
   "execution_count": 8,
   "metadata": {
    "collapsed": false
   },
   "outputs": [
    {
     "data": {
      "text/html": [
       "<div>\n",
       "<table border=\"1\" class=\"dataframe\">\n",
       "  <thead>\n",
       "    <tr style=\"text-align: right;\">\n",
       "      <th></th>\n",
       "      <th>station_name</th>\n",
       "      <th>time</th>\n",
       "      <th>bikes_parked</th>\n",
       "    </tr>\n",
       "  </thead>\n",
       "  <tbody>\n",
       "    <tr>\n",
       "      <th>0</th>\n",
       "      <td>1 Ave &amp; E 15 St</td>\n",
       "      <td>2015-03-01 00:00:00</td>\n",
       "      <td>4</td>\n",
       "    </tr>\n",
       "    <tr>\n",
       "      <th>1</th>\n",
       "      <td>1 Ave &amp; E 15 St</td>\n",
       "      <td>2015-03-01 01:00:00</td>\n",
       "      <td>1</td>\n",
       "    </tr>\n",
       "    <tr>\n",
       "      <th>2</th>\n",
       "      <td>1 Ave &amp; E 15 St</td>\n",
       "      <td>2015-03-01 02:00:00</td>\n",
       "      <td>1</td>\n",
       "    </tr>\n",
       "    <tr>\n",
       "      <th>3</th>\n",
       "      <td>1 Ave &amp; E 15 St</td>\n",
       "      <td>2015-03-01 05:00:00</td>\n",
       "      <td>1</td>\n",
       "    </tr>\n",
       "    <tr>\n",
       "      <th>4</th>\n",
       "      <td>1 Ave &amp; E 15 St</td>\n",
       "      <td>2015-03-01 09:00:00</td>\n",
       "      <td>4</td>\n",
       "    </tr>\n",
       "  </tbody>\n",
       "</table>\n",
       "</div>"
      ],
      "text/plain": [
       "      station_name                time  bikes_parked\n",
       "0  1 Ave & E 15 St 2015-03-01 00:00:00             4\n",
       "1  1 Ave & E 15 St 2015-03-01 01:00:00             1\n",
       "2  1 Ave & E 15 St 2015-03-01 02:00:00             1\n",
       "3  1 Ave & E 15 St 2015-03-01 05:00:00             1\n",
       "4  1 Ave & E 15 St 2015-03-01 09:00:00             4"
      ]
     },
     "execution_count": 8,
     "metadata": {},
     "output_type": "execute_result"
    }
   ],
   "source": [
    "#Estimate number of bikes at a given station at any given hour by adding number of bikes parked\n",
    "#and subtracting number of bikes taken.\n",
    "\n",
    "bikes_parked = df.groupby(['end_station_name',\n",
    "                           pd.Grouper(key='stoptime',freq='H')]).size().reset_index()\n",
    "bikes_taken = df.groupby(['start_station_name',\n",
    "                          pd.Grouper(key='starttime',freq='H')]).size().reset_index()\n",
    "\n",
    "bikes_parked.rename(columns={'end_station_name': 'station_name', \n",
    "                             'stoptime': 'time',\n",
    "                             0: 'bikes_parked'}, inplace=True)\n",
    "bikes_taken.rename(columns={'start_station_name': 'station_name', \n",
    "                            'starttime': 'time',\n",
    "                            0: 'bikes_taken'},inplace=True)\n",
    "\n",
    "bikes_parked.head()"
   ]
  },
  {
   "cell_type": "markdown",
   "metadata": {},
   "source": [
    "We now have two dataframes that give us information on number of bikes parked and bikes taken at any given hour. \n",
    "\n",
    "The second issue that needs to be addressed is that Citi Bike data does not incorporate staff activity. This means that bikes that are added/removed at certain stations to increase availability of bikes/parking or bikes that are removed for inspection is not included in the dataset. \n",
    "\n",
    "We will use bikeid to make estimations on staff activity based on if a bike is parked at one station but was taken out at a different station in the next occurence."
   ]
  },
  {
   "cell_type": "code",
   "execution_count": 9,
   "metadata": {
    "collapsed": false
   },
   "outputs": [
    {
     "data": {
      "text/html": [
       "<div>\n",
       "<table border=\"1\" class=\"dataframe\">\n",
       "  <thead>\n",
       "    <tr style=\"text-align: right;\">\n",
       "      <th></th>\n",
       "      <th>tripduration</th>\n",
       "      <th>starttime</th>\n",
       "      <th>stoptime</th>\n",
       "      <th>start_station_id</th>\n",
       "      <th>start_station_name</th>\n",
       "      <th>start_station_latitude</th>\n",
       "      <th>start_station_longitude</th>\n",
       "      <th>end_station_id</th>\n",
       "      <th>end_station_name</th>\n",
       "      <th>end_station_latitude</th>\n",
       "      <th>end_station_longitude</th>\n",
       "      <th>bikeid</th>\n",
       "      <th>usertype</th>\n",
       "      <th>birth_year</th>\n",
       "      <th>gender</th>\n",
       "      <th>next_station</th>\n",
       "      <th>next_start</th>\n",
       "    </tr>\n",
       "  </thead>\n",
       "  <tbody>\n",
       "    <tr>\n",
       "      <th>0</th>\n",
       "      <td>461</td>\n",
       "      <td>2016-02-01 00:00:08</td>\n",
       "      <td>2016-02-01 00:07:49</td>\n",
       "      <td>480</td>\n",
       "      <td>W 53 St &amp; 10 Ave</td>\n",
       "      <td>40.766697</td>\n",
       "      <td>-73.990617</td>\n",
       "      <td>524</td>\n",
       "      <td>W 43 St &amp; 6 Ave</td>\n",
       "      <td>40.755273</td>\n",
       "      <td>-73.983169</td>\n",
       "      <td>23292</td>\n",
       "      <td>Subscriber</td>\n",
       "      <td>1966.0</td>\n",
       "      <td>1</td>\n",
       "      <td>W 43 St &amp; 6 Ave</td>\n",
       "      <td>2016-02-01 06:05:29</td>\n",
       "    </tr>\n",
       "    <tr>\n",
       "      <th>1</th>\n",
       "      <td>297</td>\n",
       "      <td>2016-02-01 00:00:56</td>\n",
       "      <td>2016-02-01 00:05:53</td>\n",
       "      <td>463</td>\n",
       "      <td>9 Ave &amp; W 16 St</td>\n",
       "      <td>40.742065</td>\n",
       "      <td>-74.004432</td>\n",
       "      <td>380</td>\n",
       "      <td>W 4 St &amp; 7 Ave S</td>\n",
       "      <td>40.734011</td>\n",
       "      <td>-74.002939</td>\n",
       "      <td>15329</td>\n",
       "      <td>Subscriber</td>\n",
       "      <td>1977.0</td>\n",
       "      <td>1</td>\n",
       "      <td>W 4 St &amp; 7 Ave S</td>\n",
       "      <td>2016-02-01 09:22:39</td>\n",
       "    </tr>\n",
       "    <tr>\n",
       "      <th>2</th>\n",
       "      <td>280</td>\n",
       "      <td>2016-02-01 00:01:00</td>\n",
       "      <td>2016-02-01 00:05:40</td>\n",
       "      <td>3134</td>\n",
       "      <td>3 Ave &amp; E 62 St</td>\n",
       "      <td>40.763126</td>\n",
       "      <td>-73.965269</td>\n",
       "      <td>3141</td>\n",
       "      <td>1 Ave &amp; E 68 St</td>\n",
       "      <td>40.765005</td>\n",
       "      <td>-73.958185</td>\n",
       "      <td>22927</td>\n",
       "      <td>Subscriber</td>\n",
       "      <td>1987.0</td>\n",
       "      <td>1</td>\n",
       "      <td>1 Ave &amp; E 68 St</td>\n",
       "      <td>2016-02-01 06:46:52</td>\n",
       "    </tr>\n",
       "    <tr>\n",
       "      <th>3</th>\n",
       "      <td>662</td>\n",
       "      <td>2016-02-01 00:01:00</td>\n",
       "      <td>2016-02-01 00:12:02</td>\n",
       "      <td>537</td>\n",
       "      <td>Lexington Ave &amp; E 24 St</td>\n",
       "      <td>40.740259</td>\n",
       "      <td>-73.984092</td>\n",
       "      <td>428</td>\n",
       "      <td>E 3 St &amp; 1 Ave</td>\n",
       "      <td>40.724677</td>\n",
       "      <td>-73.987834</td>\n",
       "      <td>20903</td>\n",
       "      <td>Subscriber</td>\n",
       "      <td>1983.0</td>\n",
       "      <td>2</td>\n",
       "      <td>E 3 St &amp; 1 Ave</td>\n",
       "      <td>2016-02-01 00:25:12</td>\n",
       "    </tr>\n",
       "    <tr>\n",
       "      <th>4</th>\n",
       "      <td>355</td>\n",
       "      <td>2016-02-01 00:01:41</td>\n",
       "      <td>2016-02-01 00:07:36</td>\n",
       "      <td>284</td>\n",
       "      <td>Greenwich Ave &amp; 8 Ave</td>\n",
       "      <td>40.739017</td>\n",
       "      <td>-74.002638</td>\n",
       "      <td>521</td>\n",
       "      <td>8 Ave &amp; W 31 St</td>\n",
       "      <td>40.750967</td>\n",
       "      <td>-73.994442</td>\n",
       "      <td>23228</td>\n",
       "      <td>Subscriber</td>\n",
       "      <td>1978.0</td>\n",
       "      <td>1</td>\n",
       "      <td>8 Ave &amp; W 31 St</td>\n",
       "      <td>2016-02-01 05:57:21</td>\n",
       "    </tr>\n",
       "  </tbody>\n",
       "</table>\n",
       "</div>"
      ],
      "text/plain": [
       "   tripduration           starttime            stoptime  start_station_id  \\\n",
       "0           461 2016-02-01 00:00:08 2016-02-01 00:07:49               480   \n",
       "1           297 2016-02-01 00:00:56 2016-02-01 00:05:53               463   \n",
       "2           280 2016-02-01 00:01:00 2016-02-01 00:05:40              3134   \n",
       "3           662 2016-02-01 00:01:00 2016-02-01 00:12:02               537   \n",
       "4           355 2016-02-01 00:01:41 2016-02-01 00:07:36               284   \n",
       "\n",
       "        start_station_name  start_station_latitude  start_station_longitude  \\\n",
       "0         W 53 St & 10 Ave               40.766697               -73.990617   \n",
       "1          9 Ave & W 16 St               40.742065               -74.004432   \n",
       "2          3 Ave & E 62 St               40.763126               -73.965269   \n",
       "3  Lexington Ave & E 24 St               40.740259               -73.984092   \n",
       "4    Greenwich Ave & 8 Ave               40.739017               -74.002638   \n",
       "\n",
       "   end_station_id  end_station_name  end_station_latitude  \\\n",
       "0             524   W 43 St & 6 Ave             40.755273   \n",
       "1             380  W 4 St & 7 Ave S             40.734011   \n",
       "2            3141   1 Ave & E 68 St             40.765005   \n",
       "3             428    E 3 St & 1 Ave             40.724677   \n",
       "4             521   8 Ave & W 31 St             40.750967   \n",
       "\n",
       "   end_station_longitude  bikeid    usertype  birth_year  gender  \\\n",
       "0             -73.983169   23292  Subscriber      1966.0       1   \n",
       "1             -74.002939   15329  Subscriber      1977.0       1   \n",
       "2             -73.958185   22927  Subscriber      1987.0       1   \n",
       "3             -73.987834   20903  Subscriber      1983.0       2   \n",
       "4             -73.994442   23228  Subscriber      1978.0       1   \n",
       "\n",
       "       next_station          next_start  \n",
       "0   W 43 St & 6 Ave 2016-02-01 06:05:29  \n",
       "1  W 4 St & 7 Ave S 2016-02-01 09:22:39  \n",
       "2   1 Ave & E 68 St 2016-02-01 06:46:52  \n",
       "3    E 3 St & 1 Ave 2016-02-01 00:25:12  \n",
       "4   8 Ave & W 31 St 2016-02-01 05:57:21  "
      ]
     },
     "execution_count": 9,
     "metadata": {},
     "output_type": "execute_result"
    }
   ],
   "source": [
    "#compare end station with next start station grouping by bikeid\n",
    "_temp = df.copy()\n",
    "_temp[['next_station','next_start']] = _temp.groupby('bikeid').shift(-1)[['start_station_name','starttime']]\n",
    "_temp.head()"
   ]
  },
  {
   "cell_type": "markdown",
   "metadata": {},
   "source": [
    "With this we are able to determine if a bike was removed/added at a station by the staff (end_station_name != next_station). However, in order to determine bikes available at any given hour at a station we need to estimate when that bike was added to/removed from the station. \n",
    "\n",
    "To do so, we made the following assumptions:\n",
    "\n",
    "**Assumptions:**\n",
    "1. Staff only add and remove bikes between 8am and 7pm\n",
    "2. Someone took out a staff added bike in the hour that the staff added bikes\n",
    "3. The staff took out one of the bikes that a user parked in the same hour"
   ]
  },
  {
   "cell_type": "code",
   "execution_count": 83,
   "metadata": {
    "collapsed": false,
    "scrolled": true
   },
   "outputs": [
    {
     "ename": "KeyError",
     "evalue": "'end_station_name'",
     "output_type": "error",
     "traceback": [
      "\u001b[0;31m---------------------------------------------------------------------------\u001b[0m",
      "\u001b[0;31mKeyError\u001b[0m                                  Traceback (most recent call last)",
      "\u001b[0;32m<ipython-input-83-0ebb4298f5f4>\u001b[0m in \u001b[0;36m<module>\u001b[0;34m()\u001b[0m\n\u001b[1;32m      1\u001b[0m \u001b[0;31m#Count number of times a bike was removed from a station that it was not parked in\u001b[0m\u001b[0;34m\u001b[0m\u001b[0;34m\u001b[0m\u001b[0m\n\u001b[0;32m----> 2\u001b[0;31m staff_added_hour = _temp[_temp['end_station_name'] != _temp['next_station']].fillna(0).groupby(['next_station',\n\u001b[0m\u001b[1;32m      3\u001b[0m                                                                 pd.Grouper(key='next_start',freq='H')]).size().reset_index()\n\u001b[1;32m      4\u001b[0m \u001b[0mstaff_added_hour\u001b[0m\u001b[0;34m.\u001b[0m\u001b[0mrename\u001b[0m\u001b[0;34m(\u001b[0m\u001b[0mcolumns\u001b[0m\u001b[0;34m=\u001b[0m\u001b[0;34m{\u001b[0m\u001b[0;36m0\u001b[0m\u001b[0;34m:\u001b[0m \u001b[0;34m'staff_added_hour'\u001b[0m\u001b[0;34m}\u001b[0m\u001b[0;34m,\u001b[0m\u001b[0minplace\u001b[0m\u001b[0;34m=\u001b[0m\u001b[0mTrue\u001b[0m\u001b[0;34m)\u001b[0m\u001b[0;34m\u001b[0m\u001b[0m\n",
      "\u001b[0;32m/Users/JToyoshima/anaconda/lib/python2.7/site-packages/pandas/core/frame.pyc\u001b[0m in \u001b[0;36m__getitem__\u001b[0;34m(self, key)\u001b[0m\n\u001b[1;32m   1990\u001b[0m             \u001b[0;32mreturn\u001b[0m \u001b[0mself\u001b[0m\u001b[0;34m.\u001b[0m\u001b[0m_getitem_multilevel\u001b[0m\u001b[0;34m(\u001b[0m\u001b[0mkey\u001b[0m\u001b[0;34m)\u001b[0m\u001b[0;34m\u001b[0m\u001b[0m\n\u001b[1;32m   1991\u001b[0m         \u001b[0;32melse\u001b[0m\u001b[0;34m:\u001b[0m\u001b[0;34m\u001b[0m\u001b[0m\n\u001b[0;32m-> 1992\u001b[0;31m             \u001b[0;32mreturn\u001b[0m \u001b[0mself\u001b[0m\u001b[0;34m.\u001b[0m\u001b[0m_getitem_column\u001b[0m\u001b[0;34m(\u001b[0m\u001b[0mkey\u001b[0m\u001b[0;34m)\u001b[0m\u001b[0;34m\u001b[0m\u001b[0m\n\u001b[0m\u001b[1;32m   1993\u001b[0m \u001b[0;34m\u001b[0m\u001b[0m\n\u001b[1;32m   1994\u001b[0m     \u001b[0;32mdef\u001b[0m \u001b[0m_getitem_column\u001b[0m\u001b[0;34m(\u001b[0m\u001b[0mself\u001b[0m\u001b[0;34m,\u001b[0m \u001b[0mkey\u001b[0m\u001b[0;34m)\u001b[0m\u001b[0;34m:\u001b[0m\u001b[0;34m\u001b[0m\u001b[0m\n",
      "\u001b[0;32m/Users/JToyoshima/anaconda/lib/python2.7/site-packages/pandas/core/frame.pyc\u001b[0m in \u001b[0;36m_getitem_column\u001b[0;34m(self, key)\u001b[0m\n\u001b[1;32m   1997\u001b[0m         \u001b[0;31m# get column\u001b[0m\u001b[0;34m\u001b[0m\u001b[0;34m\u001b[0m\u001b[0m\n\u001b[1;32m   1998\u001b[0m         \u001b[0;32mif\u001b[0m \u001b[0mself\u001b[0m\u001b[0;34m.\u001b[0m\u001b[0mcolumns\u001b[0m\u001b[0;34m.\u001b[0m\u001b[0mis_unique\u001b[0m\u001b[0;34m:\u001b[0m\u001b[0;34m\u001b[0m\u001b[0m\n\u001b[0;32m-> 1999\u001b[0;31m             \u001b[0;32mreturn\u001b[0m \u001b[0mself\u001b[0m\u001b[0;34m.\u001b[0m\u001b[0m_get_item_cache\u001b[0m\u001b[0;34m(\u001b[0m\u001b[0mkey\u001b[0m\u001b[0;34m)\u001b[0m\u001b[0;34m\u001b[0m\u001b[0m\n\u001b[0m\u001b[1;32m   2000\u001b[0m \u001b[0;34m\u001b[0m\u001b[0m\n\u001b[1;32m   2001\u001b[0m         \u001b[0;31m# duplicate columns & possible reduce dimensionality\u001b[0m\u001b[0;34m\u001b[0m\u001b[0;34m\u001b[0m\u001b[0m\n",
      "\u001b[0;32m/Users/JToyoshima/anaconda/lib/python2.7/site-packages/pandas/core/generic.pyc\u001b[0m in \u001b[0;36m_get_item_cache\u001b[0;34m(self, item)\u001b[0m\n\u001b[1;32m   1343\u001b[0m         \u001b[0mres\u001b[0m \u001b[0;34m=\u001b[0m \u001b[0mcache\u001b[0m\u001b[0;34m.\u001b[0m\u001b[0mget\u001b[0m\u001b[0;34m(\u001b[0m\u001b[0mitem\u001b[0m\u001b[0;34m)\u001b[0m\u001b[0;34m\u001b[0m\u001b[0m\n\u001b[1;32m   1344\u001b[0m         \u001b[0;32mif\u001b[0m \u001b[0mres\u001b[0m \u001b[0;32mis\u001b[0m \u001b[0mNone\u001b[0m\u001b[0;34m:\u001b[0m\u001b[0;34m\u001b[0m\u001b[0m\n\u001b[0;32m-> 1345\u001b[0;31m             \u001b[0mvalues\u001b[0m \u001b[0;34m=\u001b[0m \u001b[0mself\u001b[0m\u001b[0;34m.\u001b[0m\u001b[0m_data\u001b[0m\u001b[0;34m.\u001b[0m\u001b[0mget\u001b[0m\u001b[0;34m(\u001b[0m\u001b[0mitem\u001b[0m\u001b[0;34m)\u001b[0m\u001b[0;34m\u001b[0m\u001b[0m\n\u001b[0m\u001b[1;32m   1346\u001b[0m             \u001b[0mres\u001b[0m \u001b[0;34m=\u001b[0m \u001b[0mself\u001b[0m\u001b[0;34m.\u001b[0m\u001b[0m_box_item_values\u001b[0m\u001b[0;34m(\u001b[0m\u001b[0mitem\u001b[0m\u001b[0;34m,\u001b[0m \u001b[0mvalues\u001b[0m\u001b[0;34m)\u001b[0m\u001b[0;34m\u001b[0m\u001b[0m\n\u001b[1;32m   1347\u001b[0m             \u001b[0mcache\u001b[0m\u001b[0;34m[\u001b[0m\u001b[0mitem\u001b[0m\u001b[0;34m]\u001b[0m \u001b[0;34m=\u001b[0m \u001b[0mres\u001b[0m\u001b[0;34m\u001b[0m\u001b[0m\n",
      "\u001b[0;32m/Users/JToyoshima/anaconda/lib/python2.7/site-packages/pandas/core/internals.pyc\u001b[0m in \u001b[0;36mget\u001b[0;34m(self, item, fastpath)\u001b[0m\n\u001b[1;32m   3223\u001b[0m \u001b[0;34m\u001b[0m\u001b[0m\n\u001b[1;32m   3224\u001b[0m             \u001b[0;32mif\u001b[0m \u001b[0;32mnot\u001b[0m \u001b[0misnull\u001b[0m\u001b[0;34m(\u001b[0m\u001b[0mitem\u001b[0m\u001b[0;34m)\u001b[0m\u001b[0;34m:\u001b[0m\u001b[0;34m\u001b[0m\u001b[0m\n\u001b[0;32m-> 3225\u001b[0;31m                 \u001b[0mloc\u001b[0m \u001b[0;34m=\u001b[0m \u001b[0mself\u001b[0m\u001b[0;34m.\u001b[0m\u001b[0mitems\u001b[0m\u001b[0;34m.\u001b[0m\u001b[0mget_loc\u001b[0m\u001b[0;34m(\u001b[0m\u001b[0mitem\u001b[0m\u001b[0;34m)\u001b[0m\u001b[0;34m\u001b[0m\u001b[0m\n\u001b[0m\u001b[1;32m   3226\u001b[0m             \u001b[0;32melse\u001b[0m\u001b[0;34m:\u001b[0m\u001b[0;34m\u001b[0m\u001b[0m\n\u001b[1;32m   3227\u001b[0m                 \u001b[0mindexer\u001b[0m \u001b[0;34m=\u001b[0m \u001b[0mnp\u001b[0m\u001b[0;34m.\u001b[0m\u001b[0marange\u001b[0m\u001b[0;34m(\u001b[0m\u001b[0mlen\u001b[0m\u001b[0;34m(\u001b[0m\u001b[0mself\u001b[0m\u001b[0;34m.\u001b[0m\u001b[0mitems\u001b[0m\u001b[0;34m)\u001b[0m\u001b[0;34m)\u001b[0m\u001b[0;34m[\u001b[0m\u001b[0misnull\u001b[0m\u001b[0;34m(\u001b[0m\u001b[0mself\u001b[0m\u001b[0;34m.\u001b[0m\u001b[0mitems\u001b[0m\u001b[0;34m)\u001b[0m\u001b[0;34m]\u001b[0m\u001b[0;34m\u001b[0m\u001b[0m\n",
      "\u001b[0;32m/Users/JToyoshima/anaconda/lib/python2.7/site-packages/pandas/indexes/base.pyc\u001b[0m in \u001b[0;36mget_loc\u001b[0;34m(self, key, method, tolerance)\u001b[0m\n\u001b[1;32m   1876\u001b[0m                 \u001b[0;32mreturn\u001b[0m \u001b[0mself\u001b[0m\u001b[0;34m.\u001b[0m\u001b[0m_engine\u001b[0m\u001b[0;34m.\u001b[0m\u001b[0mget_loc\u001b[0m\u001b[0;34m(\u001b[0m\u001b[0mkey\u001b[0m\u001b[0;34m)\u001b[0m\u001b[0;34m\u001b[0m\u001b[0m\n\u001b[1;32m   1877\u001b[0m             \u001b[0;32mexcept\u001b[0m \u001b[0mKeyError\u001b[0m\u001b[0;34m:\u001b[0m\u001b[0;34m\u001b[0m\u001b[0m\n\u001b[0;32m-> 1878\u001b[0;31m                 \u001b[0;32mreturn\u001b[0m \u001b[0mself\u001b[0m\u001b[0;34m.\u001b[0m\u001b[0m_engine\u001b[0m\u001b[0;34m.\u001b[0m\u001b[0mget_loc\u001b[0m\u001b[0;34m(\u001b[0m\u001b[0mself\u001b[0m\u001b[0;34m.\u001b[0m\u001b[0m_maybe_cast_indexer\u001b[0m\u001b[0;34m(\u001b[0m\u001b[0mkey\u001b[0m\u001b[0;34m)\u001b[0m\u001b[0;34m)\u001b[0m\u001b[0;34m\u001b[0m\u001b[0m\n\u001b[0m\u001b[1;32m   1879\u001b[0m \u001b[0;34m\u001b[0m\u001b[0m\n\u001b[1;32m   1880\u001b[0m         \u001b[0mindexer\u001b[0m \u001b[0;34m=\u001b[0m \u001b[0mself\u001b[0m\u001b[0;34m.\u001b[0m\u001b[0mget_indexer\u001b[0m\u001b[0;34m(\u001b[0m\u001b[0;34m[\u001b[0m\u001b[0mkey\u001b[0m\u001b[0;34m]\u001b[0m\u001b[0;34m,\u001b[0m \u001b[0mmethod\u001b[0m\u001b[0;34m=\u001b[0m\u001b[0mmethod\u001b[0m\u001b[0;34m,\u001b[0m \u001b[0mtolerance\u001b[0m\u001b[0;34m=\u001b[0m\u001b[0mtolerance\u001b[0m\u001b[0;34m)\u001b[0m\u001b[0;34m\u001b[0m\u001b[0m\n",
      "\u001b[0;32mpandas/index.pyx\u001b[0m in \u001b[0;36mpandas.index.IndexEngine.get_loc (pandas/index.c:4027)\u001b[0;34m()\u001b[0m\n",
      "\u001b[0;32mpandas/index.pyx\u001b[0m in \u001b[0;36mpandas.index.IndexEngine.get_loc (pandas/index.c:3891)\u001b[0;34m()\u001b[0m\n",
      "\u001b[0;32mpandas/hashtable.pyx\u001b[0m in \u001b[0;36mpandas.hashtable.PyObjectHashTable.get_item (pandas/hashtable.c:12408)\u001b[0;34m()\u001b[0m\n",
      "\u001b[0;32mpandas/hashtable.pyx\u001b[0m in \u001b[0;36mpandas.hashtable.PyObjectHashTable.get_item (pandas/hashtable.c:12359)\u001b[0;34m()\u001b[0m\n",
      "\u001b[0;31mKeyError\u001b[0m: 'end_station_name'"
     ]
    }
   ],
   "source": [
    "#Count number of times a bike was removed from a station that it was not parked in\n",
    "staff_added_hour = _temp[_temp['end_station_name'] != _temp['next_station']].fillna(0).groupby(['next_station',\n",
    "                                                                pd.Grouper(key='next_start',freq='H')]).size().reset_index()\n",
    "staff_added_hour.rename(columns={0: 'staff_added_hour'},inplace=True)"
   ]
  },
  {
   "cell_type": "code",
   "execution_count": 11,
   "metadata": {
    "collapsed": false
   },
   "outputs": [],
   "source": [
    "staff_added_time = [staff_added_hour.next_start[0]]\n",
    "staff_added_bikes = [staff_added_hour.staff_added_hour[0]]\n",
    "station_id = [staff_added_hour.next_station[0]]\n",
    "j = 0\n",
    "\n",
    "for i in range(len(staff_added_hour)):\n",
    "    if i != 0:\n",
    "        if (staff_added_hour.next_start[i].date() != staff_added_hour.next_start[(i-1)].date() \n",
    "            and datetime.time(20) > staff_added_hour.next_start[i].time() > datetime.time(7)):\n",
    "                staff_added_time.append(staff_added_hour.next_start[i])\n",
    "                staff_added_bikes.append(staff_added_hour.staff_added_hour[i])\n",
    "                station_id.append(staff_added_hour.next_station[i])\n",
    "                j += 1\n",
    "        else:\n",
    "                staff_added_bikes[j] += staff_added_hour.staff_added_hour[i]\n",
    " \n",
    "        \n",
    "\n",
    "df_staff_added = pd.DataFrame({'station_name': station_id,\n",
    "                               'time': staff_added_time,\n",
    "                               'staff_added': staff_added_bikes})"
   ]
  },
  {
   "cell_type": "code",
   "execution_count": 18,
   "metadata": {
    "collapsed": false
   },
   "outputs": [
    {
     "data": {
      "text/html": [
       "<div>\n",
       "<table border=\"1\" class=\"dataframe\">\n",
       "  <thead>\n",
       "    <tr style=\"text-align: right;\">\n",
       "      <th></th>\n",
       "      <th>staff_added</th>\n",
       "      <th>station_name</th>\n",
       "      <th>time</th>\n",
       "    </tr>\n",
       "  </thead>\n",
       "  <tbody>\n",
       "    <tr>\n",
       "      <th>0</th>\n",
       "      <td>8493</td>\n",
       "      <td>0</td>\n",
       "      <td>1970-01-01 00:00:00</td>\n",
       "    </tr>\n",
       "    <tr>\n",
       "      <th>1</th>\n",
       "      <td>4</td>\n",
       "      <td>1 Ave &amp; E 15 St</td>\n",
       "      <td>2015-03-03 08:00:00</td>\n",
       "    </tr>\n",
       "    <tr>\n",
       "      <th>2</th>\n",
       "      <td>3</td>\n",
       "      <td>1 Ave &amp; E 15 St</td>\n",
       "      <td>2015-03-04 12:00:00</td>\n",
       "    </tr>\n",
       "    <tr>\n",
       "      <th>3</th>\n",
       "      <td>12</td>\n",
       "      <td>1 Ave &amp; E 15 St</td>\n",
       "      <td>2015-03-06 08:00:00</td>\n",
       "    </tr>\n",
       "    <tr>\n",
       "      <th>4</th>\n",
       "      <td>5</td>\n",
       "      <td>1 Ave &amp; E 15 St</td>\n",
       "      <td>2015-03-07 09:00:00</td>\n",
       "    </tr>\n",
       "  </tbody>\n",
       "</table>\n",
       "</div>"
      ],
      "text/plain": [
       "   staff_added     station_name                time\n",
       "0         8493                0 1970-01-01 00:00:00\n",
       "1            4  1 Ave & E 15 St 2015-03-03 08:00:00\n",
       "2            3  1 Ave & E 15 St 2015-03-04 12:00:00\n",
       "3           12  1 Ave & E 15 St 2015-03-06 08:00:00\n",
       "4            5  1 Ave & E 15 St 2015-03-07 09:00:00"
      ]
     },
     "execution_count": 18,
     "metadata": {},
     "output_type": "execute_result"
    }
   ],
   "source": [
    "df_staff_added.head()"
   ]
  },
  {
   "cell_type": "code",
   "execution_count": 12,
   "metadata": {
    "collapsed": false
   },
   "outputs": [],
   "source": [
    "staff_removed_hour = _temp[_temp['end_station_name'] != _temp['next_station']].groupby(['end_station_name',\n",
    "                                                                pd.Grouper(key='starttime',freq='H')]).size().reset_index()\n",
    "staff_removed_hour.rename(columns={0: 'staff_removed_hour'},inplace=True)"
   ]
  },
  {
   "cell_type": "code",
   "execution_count": 13,
   "metadata": {
    "collapsed": false
   },
   "outputs": [],
   "source": [
    "staff_removed_time = []\n",
    "staff_removed_bikes = []\n",
    "station_id = []\n",
    "count = staff_removed_hour.staff_removed_hour[0]\n",
    "\n",
    "for i in range(len(staff_removed_hour)):\n",
    "    if i != len(staff_removed_hour)-1:\n",
    "        if (staff_removed_hour.starttime[i].date() != staff_removed_hour.starttime[(i+1)].date() \n",
    "            and datetime.time(20) > staff_removed_hour.starttime[i].time() > datetime.time(7)):\n",
    "                staff_removed_time.append(staff_removed_hour.starttime[i])\n",
    "                staff_removed_bikes.append(count)\n",
    "                station_id.append(staff_removed_hour.end_station_name[i])\n",
    "                count = staff_removed_hour.staff_removed_hour[i+1]\n",
    "        else:\n",
    "                count += staff_removed_hour.staff_removed_hour[i]\n",
    "\n",
    "\n",
    "df_staff_removed = pd.DataFrame({'station_name': station_id,\n",
    "                                 'time': staff_removed_time,\n",
    "                                 'staff_removed': staff_removed_bikes})"
   ]
  },
  {
   "cell_type": "code",
   "execution_count": 14,
   "metadata": {
    "collapsed": false
   },
   "outputs": [
    {
     "data": {
      "text/html": [
       "<div>\n",
       "<table border=\"1\" class=\"dataframe\">\n",
       "  <thead>\n",
       "    <tr style=\"text-align: right;\">\n",
       "      <th></th>\n",
       "      <th>staff_removed</th>\n",
       "      <th>station_name</th>\n",
       "      <th>time</th>\n",
       "    </tr>\n",
       "  </thead>\n",
       "  <tbody>\n",
       "    <tr>\n",
       "      <th>0</th>\n",
       "      <td>4</td>\n",
       "      <td>1 Ave &amp; E 15 St</td>\n",
       "      <td>2015-03-01 12:00:00</td>\n",
       "    </tr>\n",
       "    <tr>\n",
       "      <th>1</th>\n",
       "      <td>11</td>\n",
       "      <td>1 Ave &amp; E 15 St</td>\n",
       "      <td>2015-03-03 17:00:00</td>\n",
       "    </tr>\n",
       "    <tr>\n",
       "      <th>2</th>\n",
       "      <td>20</td>\n",
       "      <td>1 Ave &amp; E 15 St</td>\n",
       "      <td>2015-03-05 08:00:00</td>\n",
       "    </tr>\n",
       "    <tr>\n",
       "      <th>3</th>\n",
       "      <td>57</td>\n",
       "      <td>1 Ave &amp; E 15 St</td>\n",
       "      <td>2015-03-10 18:00:00</td>\n",
       "    </tr>\n",
       "    <tr>\n",
       "      <th>4</th>\n",
       "      <td>70</td>\n",
       "      <td>1 Ave &amp; E 15 St</td>\n",
       "      <td>2015-03-15 18:00:00</td>\n",
       "    </tr>\n",
       "  </tbody>\n",
       "</table>\n",
       "</div>"
      ],
      "text/plain": [
       "   staff_removed     station_name                time\n",
       "0              4  1 Ave & E 15 St 2015-03-01 12:00:00\n",
       "1             11  1 Ave & E 15 St 2015-03-03 17:00:00\n",
       "2             20  1 Ave & E 15 St 2015-03-05 08:00:00\n",
       "3             57  1 Ave & E 15 St 2015-03-10 18:00:00\n",
       "4             70  1 Ave & E 15 St 2015-03-15 18:00:00"
      ]
     },
     "execution_count": 14,
     "metadata": {},
     "output_type": "execute_result"
    }
   ],
   "source": [
    "df_staff_removed.head()"
   ]
  },
  {
   "cell_type": "code",
   "execution_count": 15,
   "metadata": {
    "collapsed": false,
    "scrolled": true
   },
   "outputs": [
    {
     "data": {
      "text/html": [
       "<div>\n",
       "<table border=\"1\" class=\"dataframe\">\n",
       "  <thead>\n",
       "    <tr style=\"text-align: right;\">\n",
       "      <th></th>\n",
       "      <th>station_name</th>\n",
       "      <th>time</th>\n",
       "    </tr>\n",
       "  </thead>\n",
       "  <tbody>\n",
       "    <tr>\n",
       "      <th>0</th>\n",
       "      <td>W 53 St &amp; 10 Ave</td>\n",
       "      <td>2015-03-01 00:00:00</td>\n",
       "    </tr>\n",
       "    <tr>\n",
       "      <th>1</th>\n",
       "      <td>W 53 St &amp; 10 Ave</td>\n",
       "      <td>2015-03-01 01:00:00</td>\n",
       "    </tr>\n",
       "    <tr>\n",
       "      <th>2</th>\n",
       "      <td>W 53 St &amp; 10 Ave</td>\n",
       "      <td>2015-03-01 02:00:00</td>\n",
       "    </tr>\n",
       "    <tr>\n",
       "      <th>3</th>\n",
       "      <td>W 53 St &amp; 10 Ave</td>\n",
       "      <td>2015-03-01 03:00:00</td>\n",
       "    </tr>\n",
       "    <tr>\n",
       "      <th>4</th>\n",
       "      <td>W 53 St &amp; 10 Ave</td>\n",
       "      <td>2015-03-01 04:00:00</td>\n",
       "    </tr>\n",
       "  </tbody>\n",
       "</table>\n",
       "</div>"
      ],
      "text/plain": [
       "       station_name                time\n",
       "0  W 53 St & 10 Ave 2015-03-01 00:00:00\n",
       "1  W 53 St & 10 Ave 2015-03-01 01:00:00\n",
       "2  W 53 St & 10 Ave 2015-03-01 02:00:00\n",
       "3  W 53 St & 10 Ave 2015-03-01 03:00:00\n",
       "4  W 53 St & 10 Ave 2015-03-01 04:00:00"
      ]
     },
     "execution_count": 15,
     "metadata": {},
     "output_type": "execute_result"
    }
   ],
   "source": [
    "#create new dataframe with all values\n",
    "firstdate = df.starttime.min().replace(minute=0, second=0, microsecond=0)\n",
    "#number of days based on length of data\n",
    "days = 29+31+31+30+31+30+31+31+30+31+30+31\n",
    "periods = 24*days\n",
    "\n",
    "datelist = pd.date_range(firstdate, periods=periods, freq='H').tolist()\n",
    "stations = df.start_station_name.unique().tolist()\n",
    "stationlist = [val for val in stations for i in range(periods)]\n",
    "datelist = datelist * len(stations)\n",
    "df_freqhours = pd.DataFrame({'station_name': stationlist,\n",
    "                           'time': datelist})\n",
    "df_freqhours.head()"
   ]
  },
  {
   "cell_type": "code",
   "execution_count": 16,
   "metadata": {
    "collapsed": false
   },
   "outputs": [],
   "source": [
    "#merge dataframes together\n",
    "df_freqhours2 = pd.merge(df_freqhours, bikes_parked, on=['station_name','time'], how='outer')\n",
    "df_freqhours3 = pd.merge(df_freqhours2, bikes_taken, on=['station_name','time'], how='outer')\n",
    "df_freqhours3.fillna(0,inplace=True)\n",
    "#bike_change is user added bikes minus user removed bikes\n",
    "df_freqhours3['bike_change'] = df_freqhours3.bikes_parked - df_freqhours3.bikes_taken\n",
    "df_freqhours4 = pd.merge(df_freqhours3, df_staff_added, on=['station_name','time'], how='outer' )\n",
    "df_freqhours5 = pd.merge(df_freqhours4, df_staff_removed, on=['station_name','time'], how='outer' )\n",
    "df_freqhours5.fillna(0,inplace=True)\n",
    "#staff_change is staff added bikes minus staff removed bikes\n",
    "df_freqhours5['staff_change'] = df_freqhours5.staff_added - df_freqhours5.staff_removed"
   ]
  },
  {
   "cell_type": "code",
   "execution_count": 17,
   "metadata": {
    "collapsed": false
   },
   "outputs": [
    {
     "data": {
      "text/html": [
       "<div>\n",
       "<table border=\"1\" class=\"dataframe\">\n",
       "  <thead>\n",
       "    <tr style=\"text-align: right;\">\n",
       "      <th></th>\n",
       "      <th>station_name</th>\n",
       "      <th>time</th>\n",
       "      <th>bikes_parked</th>\n",
       "      <th>bikes_taken</th>\n",
       "      <th>bike_change</th>\n",
       "      <th>staff_added</th>\n",
       "      <th>staff_removed</th>\n",
       "      <th>staff_change</th>\n",
       "    </tr>\n",
       "  </thead>\n",
       "  <tbody>\n",
       "    <tr>\n",
       "      <th>0</th>\n",
       "      <td>W 53 St &amp; 10 Ave</td>\n",
       "      <td>2015-03-01 00:00:00</td>\n",
       "      <td>0.0</td>\n",
       "      <td>0.0</td>\n",
       "      <td>0.0</td>\n",
       "      <td>0.0</td>\n",
       "      <td>0.0</td>\n",
       "      <td>0.0</td>\n",
       "    </tr>\n",
       "    <tr>\n",
       "      <th>1</th>\n",
       "      <td>W 53 St &amp; 10 Ave</td>\n",
       "      <td>2015-03-01 01:00:00</td>\n",
       "      <td>0.0</td>\n",
       "      <td>0.0</td>\n",
       "      <td>0.0</td>\n",
       "      <td>0.0</td>\n",
       "      <td>0.0</td>\n",
       "      <td>0.0</td>\n",
       "    </tr>\n",
       "    <tr>\n",
       "      <th>2</th>\n",
       "      <td>W 53 St &amp; 10 Ave</td>\n",
       "      <td>2015-03-01 02:00:00</td>\n",
       "      <td>0.0</td>\n",
       "      <td>0.0</td>\n",
       "      <td>0.0</td>\n",
       "      <td>0.0</td>\n",
       "      <td>0.0</td>\n",
       "      <td>0.0</td>\n",
       "    </tr>\n",
       "    <tr>\n",
       "      <th>3</th>\n",
       "      <td>W 53 St &amp; 10 Ave</td>\n",
       "      <td>2015-03-01 03:00:00</td>\n",
       "      <td>0.0</td>\n",
       "      <td>0.0</td>\n",
       "      <td>0.0</td>\n",
       "      <td>0.0</td>\n",
       "      <td>0.0</td>\n",
       "      <td>0.0</td>\n",
       "    </tr>\n",
       "    <tr>\n",
       "      <th>4</th>\n",
       "      <td>W 53 St &amp; 10 Ave</td>\n",
       "      <td>2015-03-01 04:00:00</td>\n",
       "      <td>0.0</td>\n",
       "      <td>0.0</td>\n",
       "      <td>0.0</td>\n",
       "      <td>0.0</td>\n",
       "      <td>0.0</td>\n",
       "      <td>0.0</td>\n",
       "    </tr>\n",
       "  </tbody>\n",
       "</table>\n",
       "</div>"
      ],
      "text/plain": [
       "       station_name                time  bikes_parked  bikes_taken  \\\n",
       "0  W 53 St & 10 Ave 2015-03-01 00:00:00           0.0          0.0   \n",
       "1  W 53 St & 10 Ave 2015-03-01 01:00:00           0.0          0.0   \n",
       "2  W 53 St & 10 Ave 2015-03-01 02:00:00           0.0          0.0   \n",
       "3  W 53 St & 10 Ave 2015-03-01 03:00:00           0.0          0.0   \n",
       "4  W 53 St & 10 Ave 2015-03-01 04:00:00           0.0          0.0   \n",
       "\n",
       "   bike_change  staff_added  staff_removed  staff_change  \n",
       "0          0.0          0.0            0.0           0.0  \n",
       "1          0.0          0.0            0.0           0.0  \n",
       "2          0.0          0.0            0.0           0.0  \n",
       "3          0.0          0.0            0.0           0.0  \n",
       "4          0.0          0.0            0.0           0.0  "
      ]
     },
     "execution_count": 17,
     "metadata": {},
     "output_type": "execute_result"
    }
   ],
   "source": [
    "df_freqhours5.head()"
   ]
  },
  {
   "cell_type": "markdown",
   "metadata": {},
   "source": [
    "The next step is to determine reset points of which there were 0 bikes available. The reasons for this are: 1) it will allow us to add bike_change and staff_change from those points onwards 2) allows for reset points to mitigate error from assumptions.\n",
    "\n",
    "To determine these reset points, we make the following assumption:\n",
    "\n",
    "**Assumption:**\n",
    "Between (and including) 7am to 11pm, if looking x hours back, staff and users did not add any bikes and if looking y hours after, users and staff did not remove any bikes we assume that there were no bikes at that time. "
   ]
  },
  {
   "cell_type": "code",
   "execution_count": 18,
   "metadata": {
    "collapsed": false
   },
   "outputs": [],
   "source": [
    "#Function that sums up change looking back or after x hours for a feature and creates a column with total change\n",
    "def add_shift_x(df, shiftamnt,shifttype):\n",
    "    amnt = shiftamnt\n",
    "    while shiftamnt != 0:\n",
    "        if shiftamnt > 0:\n",
    "            df[shifttype+'_after_'+str(shiftamnt)] = df.groupby('station_name').shift(shiftamnt)[shifttype]\n",
    "            shiftamnt-=1\n",
    "        else:\n",
    "            df[shifttype+'_before_'+str(abs(shiftamnt))] = df.groupby('station_name').shift(shiftamnt)[shifttype]\n",
    "            shiftamnt+=1\n",
    "    df[shifttype+'at_0'] = df.groupby('station_name').shift(0)[shifttype]\n",
    "    if amnt > 0:\n",
    "        df['total_'+shifttype+'_after'] = df[df.columns[-amnt:]].sum(axis=1)\n",
    "        df = df.drop(df[df.columns[(-amnt-2):-1]], axis = 1)\n",
    "    elif amnt < 0:\n",
    "        df['total_'+shifttype+'_before'] = df[df.columns[amnt:]].sum(axis=1)\n",
    "        df = df.drop(df[df.columns[(amnt-2):-1]], axis = 1)\n",
    "    return df"
   ]
  },
  {
   "cell_type": "code",
   "execution_count": 31,
   "metadata": {
    "collapsed": true
   },
   "outputs": [],
   "source": [
    "has_bikes = df_freqhours5.drop(['bikes_parked','bikes_taken', 'staff_added', 'staff_removed'], axis=1)"
   ]
  },
  {
   "cell_type": "code",
   "execution_count": 32,
   "metadata": {
    "collapsed": false
   },
   "outputs": [],
   "source": [
    "#Assumption: Looking 2 hours back, looking 1 hour after\n",
    "has_bikes = add_shift_x(has_bikes, 1, 'bike_change')\n",
    "has_bikes = add_shift_x(has_bikes, 1, 'staff_change')\n",
    "has_bikes = add_shift_x(has_bikes,-2,'bike_change')\n",
    "has_bikes = add_shift_x(has_bikes,-2,'staff_change')"
   ]
  },
  {
   "cell_type": "code",
   "execution_count": 35,
   "metadata": {
    "collapsed": false
   },
   "outputs": [
    {
     "data": {
      "text/html": [
       "<div>\n",
       "<table border=\"1\" class=\"dataframe\">\n",
       "  <thead>\n",
       "    <tr style=\"text-align: right;\">\n",
       "      <th></th>\n",
       "      <th>station_name</th>\n",
       "      <th>time</th>\n",
       "      <th>bike_change</th>\n",
       "      <th>staff_change</th>\n",
       "      <th>total_bike_change_after</th>\n",
       "      <th>total_staff_change_after</th>\n",
       "      <th>total_bike_change_before</th>\n",
       "      <th>total_staff_change_before</th>\n",
       "    </tr>\n",
       "  </thead>\n",
       "  <tbody>\n",
       "    <tr>\n",
       "      <th>0</th>\n",
       "      <td>W 53 St &amp; 10 Ave</td>\n",
       "      <td>2015-03-01 00:00:00</td>\n",
       "      <td>0.0</td>\n",
       "      <td>0.0</td>\n",
       "      <td>0.0</td>\n",
       "      <td>0.0</td>\n",
       "      <td>0.0</td>\n",
       "      <td>0.0</td>\n",
       "    </tr>\n",
       "    <tr>\n",
       "      <th>1</th>\n",
       "      <td>W 53 St &amp; 10 Ave</td>\n",
       "      <td>2015-03-01 01:00:00</td>\n",
       "      <td>0.0</td>\n",
       "      <td>0.0</td>\n",
       "      <td>0.0</td>\n",
       "      <td>0.0</td>\n",
       "      <td>0.0</td>\n",
       "      <td>0.0</td>\n",
       "    </tr>\n",
       "    <tr>\n",
       "      <th>2</th>\n",
       "      <td>W 53 St &amp; 10 Ave</td>\n",
       "      <td>2015-03-01 02:00:00</td>\n",
       "      <td>0.0</td>\n",
       "      <td>0.0</td>\n",
       "      <td>0.0</td>\n",
       "      <td>0.0</td>\n",
       "      <td>0.0</td>\n",
       "      <td>0.0</td>\n",
       "    </tr>\n",
       "    <tr>\n",
       "      <th>3</th>\n",
       "      <td>W 53 St &amp; 10 Ave</td>\n",
       "      <td>2015-03-01 03:00:00</td>\n",
       "      <td>0.0</td>\n",
       "      <td>0.0</td>\n",
       "      <td>0.0</td>\n",
       "      <td>0.0</td>\n",
       "      <td>0.0</td>\n",
       "      <td>0.0</td>\n",
       "    </tr>\n",
       "    <tr>\n",
       "      <th>4</th>\n",
       "      <td>W 53 St &amp; 10 Ave</td>\n",
       "      <td>2015-03-01 04:00:00</td>\n",
       "      <td>0.0</td>\n",
       "      <td>0.0</td>\n",
       "      <td>0.0</td>\n",
       "      <td>0.0</td>\n",
       "      <td>0.0</td>\n",
       "      <td>0.0</td>\n",
       "    </tr>\n",
       "  </tbody>\n",
       "</table>\n",
       "</div>"
      ],
      "text/plain": [
       "       station_name                time  bike_change  staff_change  \\\n",
       "0  W 53 St & 10 Ave 2015-03-01 00:00:00          0.0           0.0   \n",
       "1  W 53 St & 10 Ave 2015-03-01 01:00:00          0.0           0.0   \n",
       "2  W 53 St & 10 Ave 2015-03-01 02:00:00          0.0           0.0   \n",
       "3  W 53 St & 10 Ave 2015-03-01 03:00:00          0.0           0.0   \n",
       "4  W 53 St & 10 Ave 2015-03-01 04:00:00          0.0           0.0   \n",
       "\n",
       "   total_bike_change_after  total_staff_change_after  \\\n",
       "0                      0.0                       0.0   \n",
       "1                      0.0                       0.0   \n",
       "2                      0.0                       0.0   \n",
       "3                      0.0                       0.0   \n",
       "4                      0.0                       0.0   \n",
       "\n",
       "   total_bike_change_before  total_staff_change_before  \n",
       "0                       0.0                        0.0  \n",
       "1                       0.0                        0.0  \n",
       "2                       0.0                        0.0  \n",
       "3                       0.0                        0.0  \n",
       "4                       0.0                        0.0  "
      ]
     },
     "execution_count": 35,
     "metadata": {},
     "output_type": "execute_result"
    }
   ],
   "source": [
    "has_bikes.head()"
   ]
  },
  {
   "cell_type": "code",
   "execution_count": 25,
   "metadata": {
    "collapsed": false
   },
   "outputs": [],
   "source": [
    "hasbike = []\n",
    "for i in range(len(has_bikes)):\n",
    "    if has_bikes.time[i].time() > datetime.time(6):\n",
    "        if (has_bikes.total_bike_change_after[i] >= 0 \n",
    "            and has_bikes.total_staff_change_after[i] >=0\n",
    "            and has_bikes.total_bike_change_before[i] <= 0 \n",
    "            and has_bikes.total_staff_change_before[i] <= 0):\n",
    "            hasbike.append(0)\n",
    "        else:\n",
    "            hasbike.append(1)\n",
    "    else:\n",
    "        hasbike.append(1)"
   ]
  },
  {
   "cell_type": "code",
   "execution_count": 26,
   "metadata": {
    "collapsed": true
   },
   "outputs": [],
   "source": [
    "hasbike = pd.DataFrame({'has_bike': hasbike})"
   ]
  },
  {
   "cell_type": "code",
   "execution_count": 46,
   "metadata": {
    "collapsed": false
   },
   "outputs": [],
   "source": [
    "has_bikes = df_freqhours5.drop(['bikes_parked','bikes_taken', 'staff_added', 'staff_removed'], axis=1)"
   ]
  },
  {
   "cell_type": "code",
   "execution_count": 47,
   "metadata": {
    "collapsed": false
   },
   "outputs": [],
   "source": [
    "has_bikes['total_change'] = has_bikes[['bike_change','staff_change']].sum(axis=1)\n",
    "has_bikes = has_bikes.join(hasbike)"
   ]
  },
  {
   "cell_type": "code",
   "execution_count": 48,
   "metadata": {
    "collapsed": false
   },
   "outputs": [
    {
     "data": {
      "text/html": [
       "<div>\n",
       "<table border=\"1\" class=\"dataframe\">\n",
       "  <thead>\n",
       "    <tr style=\"text-align: right;\">\n",
       "      <th></th>\n",
       "      <th>station_name</th>\n",
       "      <th>time</th>\n",
       "      <th>bike_change</th>\n",
       "      <th>staff_change</th>\n",
       "      <th>total_change</th>\n",
       "      <th>has_bike</th>\n",
       "    </tr>\n",
       "  </thead>\n",
       "  <tbody>\n",
       "    <tr>\n",
       "      <th>0</th>\n",
       "      <td>W 53 St &amp; 10 Ave</td>\n",
       "      <td>2015-03-01 00:00:00</td>\n",
       "      <td>0.0</td>\n",
       "      <td>0.0</td>\n",
       "      <td>0.0</td>\n",
       "      <td>1</td>\n",
       "    </tr>\n",
       "    <tr>\n",
       "      <th>1</th>\n",
       "      <td>W 53 St &amp; 10 Ave</td>\n",
       "      <td>2015-03-01 01:00:00</td>\n",
       "      <td>0.0</td>\n",
       "      <td>0.0</td>\n",
       "      <td>0.0</td>\n",
       "      <td>1</td>\n",
       "    </tr>\n",
       "    <tr>\n",
       "      <th>2</th>\n",
       "      <td>W 53 St &amp; 10 Ave</td>\n",
       "      <td>2015-03-01 02:00:00</td>\n",
       "      <td>0.0</td>\n",
       "      <td>0.0</td>\n",
       "      <td>0.0</td>\n",
       "      <td>1</td>\n",
       "    </tr>\n",
       "    <tr>\n",
       "      <th>3</th>\n",
       "      <td>W 53 St &amp; 10 Ave</td>\n",
       "      <td>2015-03-01 03:00:00</td>\n",
       "      <td>0.0</td>\n",
       "      <td>0.0</td>\n",
       "      <td>0.0</td>\n",
       "      <td>1</td>\n",
       "    </tr>\n",
       "    <tr>\n",
       "      <th>4</th>\n",
       "      <td>W 53 St &amp; 10 Ave</td>\n",
       "      <td>2015-03-01 04:00:00</td>\n",
       "      <td>0.0</td>\n",
       "      <td>0.0</td>\n",
       "      <td>0.0</td>\n",
       "      <td>1</td>\n",
       "    </tr>\n",
       "  </tbody>\n",
       "</table>\n",
       "</div>"
      ],
      "text/plain": [
       "       station_name                time  bike_change  staff_change  \\\n",
       "0  W 53 St & 10 Ave 2015-03-01 00:00:00          0.0           0.0   \n",
       "1  W 53 St & 10 Ave 2015-03-01 01:00:00          0.0           0.0   \n",
       "2  W 53 St & 10 Ave 2015-03-01 02:00:00          0.0           0.0   \n",
       "3  W 53 St & 10 Ave 2015-03-01 03:00:00          0.0           0.0   \n",
       "4  W 53 St & 10 Ave 2015-03-01 04:00:00          0.0           0.0   \n",
       "\n",
       "   total_change  has_bike  \n",
       "0           0.0         1  \n",
       "1           0.0         1  \n",
       "2           0.0         1  \n",
       "3           0.0         1  \n",
       "4           0.0         1  "
      ]
     },
     "execution_count": 48,
     "metadata": {},
     "output_type": "execute_result"
    }
   ],
   "source": [
    "has_bikes.head()"
   ]
  },
  {
   "cell_type": "markdown",
   "metadata": {},
   "source": [
    "With this, we now have reset points where has_bike = 0. The next step is to change starttime/stoptime to categorical variables:"
   ]
  },
  {
   "cell_type": "code",
   "execution_count": 37,
   "metadata": {
    "collapsed": false
   },
   "outputs": [],
   "source": [
    "Spring = range(3,6)\n",
    "Summer = range(6,9)\n",
    "Fall = range(9,12)\n",
    "Winter = [12]+range(1,3)\n",
    "Weekday = range(0,5)\n",
    "Weekend = range(5,7)"
   ]
  },
  {
   "cell_type": "code",
   "execution_count": 38,
   "metadata": {
    "collapsed": false
   },
   "outputs": [],
   "source": [
    "def season(column):\n",
    "    if column.month in Winter:\n",
    "        return 'Winter'\n",
    "    elif column.month in Spring:\n",
    "        return 'Spring'\n",
    "    elif column.month in Summer:\n",
    "        return 'Summer'\n",
    "    elif column.month in Fall:\n",
    "        return 'Fall'\n",
    "    else:\n",
    "        return 'Error'"
   ]
  },
  {
   "cell_type": "code",
   "execution_count": 39,
   "metadata": {
    "collapsed": true
   },
   "outputs": [],
   "source": [
    "def typeofday(column):\n",
    "    if column.weekday() in Weekday:\n",
    "        return 'Weekday'\n",
    "    elif column.weekday() in Weekend:\n",
    "        return 'Weekend'\n",
    "    else:\n",
    "        return 'Error'"
   ]
  },
  {
   "cell_type": "code",
   "execution_count": 49,
   "metadata": {
    "collapsed": false
   },
   "outputs": [
    {
     "data": {
      "text/html": [
       "<div>\n",
       "<table border=\"1\" class=\"dataframe\">\n",
       "  <thead>\n",
       "    <tr style=\"text-align: right;\">\n",
       "      <th></th>\n",
       "      <th>station_name</th>\n",
       "      <th>time</th>\n",
       "      <th>bike_change</th>\n",
       "      <th>staff_change</th>\n",
       "      <th>total_change</th>\n",
       "      <th>has_bike</th>\n",
       "      <th>season</th>\n",
       "      <th>typeofday</th>\n",
       "      <th>timeofday</th>\n",
       "    </tr>\n",
       "  </thead>\n",
       "  <tbody>\n",
       "    <tr>\n",
       "      <th>0</th>\n",
       "      <td>W 53 St &amp; 10 Ave</td>\n",
       "      <td>2015-03-01 00:00:00</td>\n",
       "      <td>0.0</td>\n",
       "      <td>0.0</td>\n",
       "      <td>0.0</td>\n",
       "      <td>1</td>\n",
       "      <td>Spring</td>\n",
       "      <td>Weekend</td>\n",
       "      <td>0</td>\n",
       "    </tr>\n",
       "    <tr>\n",
       "      <th>1</th>\n",
       "      <td>W 53 St &amp; 10 Ave</td>\n",
       "      <td>2015-03-01 01:00:00</td>\n",
       "      <td>0.0</td>\n",
       "      <td>0.0</td>\n",
       "      <td>0.0</td>\n",
       "      <td>1</td>\n",
       "      <td>Spring</td>\n",
       "      <td>Weekend</td>\n",
       "      <td>1</td>\n",
       "    </tr>\n",
       "    <tr>\n",
       "      <th>2</th>\n",
       "      <td>W 53 St &amp; 10 Ave</td>\n",
       "      <td>2015-03-01 02:00:00</td>\n",
       "      <td>0.0</td>\n",
       "      <td>0.0</td>\n",
       "      <td>0.0</td>\n",
       "      <td>1</td>\n",
       "      <td>Spring</td>\n",
       "      <td>Weekend</td>\n",
       "      <td>2</td>\n",
       "    </tr>\n",
       "    <tr>\n",
       "      <th>3</th>\n",
       "      <td>W 53 St &amp; 10 Ave</td>\n",
       "      <td>2015-03-01 03:00:00</td>\n",
       "      <td>0.0</td>\n",
       "      <td>0.0</td>\n",
       "      <td>0.0</td>\n",
       "      <td>1</td>\n",
       "      <td>Spring</td>\n",
       "      <td>Weekend</td>\n",
       "      <td>3</td>\n",
       "    </tr>\n",
       "    <tr>\n",
       "      <th>4</th>\n",
       "      <td>W 53 St &amp; 10 Ave</td>\n",
       "      <td>2015-03-01 04:00:00</td>\n",
       "      <td>0.0</td>\n",
       "      <td>0.0</td>\n",
       "      <td>0.0</td>\n",
       "      <td>1</td>\n",
       "      <td>Spring</td>\n",
       "      <td>Weekend</td>\n",
       "      <td>4</td>\n",
       "    </tr>\n",
       "  </tbody>\n",
       "</table>\n",
       "</div>"
      ],
      "text/plain": [
       "       station_name                time  bike_change  staff_change  \\\n",
       "0  W 53 St & 10 Ave 2015-03-01 00:00:00          0.0           0.0   \n",
       "1  W 53 St & 10 Ave 2015-03-01 01:00:00          0.0           0.0   \n",
       "2  W 53 St & 10 Ave 2015-03-01 02:00:00          0.0           0.0   \n",
       "3  W 53 St & 10 Ave 2015-03-01 03:00:00          0.0           0.0   \n",
       "4  W 53 St & 10 Ave 2015-03-01 04:00:00          0.0           0.0   \n",
       "\n",
       "   total_change  has_bike  season typeofday  timeofday  \n",
       "0           0.0         1  Spring   Weekend          0  \n",
       "1           0.0         1  Spring   Weekend          1  \n",
       "2           0.0         1  Spring   Weekend          2  \n",
       "3           0.0         1  Spring   Weekend          3  \n",
       "4           0.0         1  Spring   Weekend          4  "
      ]
     },
     "execution_count": 49,
     "metadata": {},
     "output_type": "execute_result"
    }
   ],
   "source": [
    "new_df = has_bikes.copy()\n",
    "new_df['season'] = map(season, new_df.time)\n",
    "new_df['typeofday'] = map(typeofday, new_df.time)\n",
    "new_df['timeofday'] = new_df.time.dt.hour\n",
    "new_df.head()"
   ]
  },
  {
   "cell_type": "markdown",
   "metadata": {},
   "source": [
    "# Seperate data on different stations"
   ]
  },
  {
   "cell_type": "code",
   "execution_count": 50,
   "metadata": {
    "collapsed": true
   },
   "outputs": [],
   "source": [
    "df_Allen_Hester = new_df[new_df.station_name == 'Allen St & Hester St'].reset_index(drop=True)"
   ]
  },
  {
   "cell_type": "markdown",
   "metadata": {},
   "source": [
    "For each station, we will apply total_change to any point after each reset point. The reason we do this after seperating out stations is to avoid overlap when the dataframe transitions from one station to another. \n",
    "\n",
    "Note: This was not necessary when determining reset points because reset points only were applied to times after 7pm and transitions between stations started from midnight. "
   ]
  },
  {
   "cell_type": "code",
   "execution_count": 52,
   "metadata": {
    "collapsed": true
   },
   "outputs": [],
   "source": [
    "#Count number of bikes based on reset points when bike=0\n",
    "def createbikelist(df):\n",
    "    numberofbikes = []\n",
    "    for i in range(len(df)):\n",
    "        if df.has_bike[i] == 0:\n",
    "            numberofbikes.append(0)\n",
    "        else:\n",
    "            if i != 0:\n",
    "                numberofbikes.append(numberofbikes[i-1]+df.total_change[i])\n",
    "            else:\n",
    "                numberofbikes.append(df.total_change[i])\n",
    "    numberofbikes = pd.DataFrame({'number_of_bikes': numberofbikes})\n",
    "    return numberofbikes"
   ]
  },
  {
   "cell_type": "code",
   "execution_count": 53,
   "metadata": {
    "collapsed": false
   },
   "outputs": [],
   "source": [
    "numberofbikes = createbikelist(df_Allen_Hester)"
   ]
  },
  {
   "cell_type": "code",
   "execution_count": 54,
   "metadata": {
    "collapsed": true
   },
   "outputs": [],
   "source": [
    "df_Allen_Hester = df_Allen_Hester.join(numberofbikes)"
   ]
  },
  {
   "cell_type": "code",
   "execution_count": 55,
   "metadata": {
    "collapsed": true
   },
   "outputs": [],
   "source": [
    "#If number_of_bikes returns a negative value, consider it to have no bikes available. \n",
    "def new_has_bike(dfcolumn):\n",
    "    if dfcolumn >= 0:\n",
    "        return 1\n",
    "    else:\n",
    "        return 0"
   ]
  },
  {
   "cell_type": "code",
   "execution_count": 56,
   "metadata": {
    "collapsed": true
   },
   "outputs": [],
   "source": [
    "df_Allen_Hester['has_bike'] = map(new_has_bike, df_Allen_Hester.number_of_bikes)"
   ]
  },
  {
   "cell_type": "code",
   "execution_count": 57,
   "metadata": {
    "collapsed": false
   },
   "outputs": [],
   "source": [
    "_temp = df_Allen_Hester[['station_name','timeofday','season','typeofday','has_bike']]"
   ]
  },
  {
   "cell_type": "code",
   "execution_count": 58,
   "metadata": {
    "collapsed": false
   },
   "outputs": [
    {
     "data": {
      "text/html": [
       "<div>\n",
       "<table border=\"1\" class=\"dataframe\">\n",
       "  <thead>\n",
       "    <tr style=\"text-align: right;\">\n",
       "      <th></th>\n",
       "      <th>station_name</th>\n",
       "      <th>timeofday</th>\n",
       "      <th>season</th>\n",
       "      <th>typeofday</th>\n",
       "      <th>has_bike</th>\n",
       "    </tr>\n",
       "  </thead>\n",
       "  <tbody>\n",
       "    <tr>\n",
       "      <th>0</th>\n",
       "      <td>Allen St &amp; Hester St</td>\n",
       "      <td>0</td>\n",
       "      <td>Spring</td>\n",
       "      <td>Weekend</td>\n",
       "      <td>1</td>\n",
       "    </tr>\n",
       "    <tr>\n",
       "      <th>1</th>\n",
       "      <td>Allen St &amp; Hester St</td>\n",
       "      <td>1</td>\n",
       "      <td>Spring</td>\n",
       "      <td>Weekend</td>\n",
       "      <td>1</td>\n",
       "    </tr>\n",
       "    <tr>\n",
       "      <th>2</th>\n",
       "      <td>Allen St &amp; Hester St</td>\n",
       "      <td>2</td>\n",
       "      <td>Spring</td>\n",
       "      <td>Weekend</td>\n",
       "      <td>1</td>\n",
       "    </tr>\n",
       "    <tr>\n",
       "      <th>3</th>\n",
       "      <td>Allen St &amp; Hester St</td>\n",
       "      <td>3</td>\n",
       "      <td>Spring</td>\n",
       "      <td>Weekend</td>\n",
       "      <td>1</td>\n",
       "    </tr>\n",
       "    <tr>\n",
       "      <th>4</th>\n",
       "      <td>Allen St &amp; Hester St</td>\n",
       "      <td>4</td>\n",
       "      <td>Spring</td>\n",
       "      <td>Weekend</td>\n",
       "      <td>1</td>\n",
       "    </tr>\n",
       "  </tbody>\n",
       "</table>\n",
       "</div>"
      ],
      "text/plain": [
       "           station_name  timeofday  season typeofday  has_bike\n",
       "0  Allen St & Hester St          0  Spring   Weekend         1\n",
       "1  Allen St & Hester St          1  Spring   Weekend         1\n",
       "2  Allen St & Hester St          2  Spring   Weekend         1\n",
       "3  Allen St & Hester St          3  Spring   Weekend         1\n",
       "4  Allen St & Hester St          4  Spring   Weekend         1"
      ]
     },
     "execution_count": 58,
     "metadata": {},
     "output_type": "execute_result"
    }
   ],
   "source": [
    "_temp.head()"
   ]
  },
  {
   "cell_type": "code",
   "execution_count": 59,
   "metadata": {
    "collapsed": false
   },
   "outputs": [],
   "source": [
    "#create dummy variables for the categorical variables\n",
    "dummiesday = pd.get_dummies(_temp['typeofday'],'is')\n",
    "dummiesmonth = pd.get_dummies(_temp['season'],'is')\n",
    "_temp = pd.concat([_temp, dummiesday], axis=1)\n",
    "_temp = pd.concat([_temp, dummiesmonth], axis=1)\n",
    "_temp.drop(['is_Weekend', 'is_Winter'], inplace=True, axis=1)"
   ]
  },
  {
   "cell_type": "code",
   "execution_count": 60,
   "metadata": {
    "collapsed": false
   },
   "outputs": [
    {
     "data": {
      "text/html": [
       "<div>\n",
       "<table border=\"1\" class=\"dataframe\">\n",
       "  <thead>\n",
       "    <tr style=\"text-align: right;\">\n",
       "      <th></th>\n",
       "      <th>station_name</th>\n",
       "      <th>timeofday</th>\n",
       "      <th>season</th>\n",
       "      <th>typeofday</th>\n",
       "      <th>has_bike</th>\n",
       "      <th>is_Weekday</th>\n",
       "      <th>is_Fall</th>\n",
       "      <th>is_Spring</th>\n",
       "      <th>is_Summer</th>\n",
       "    </tr>\n",
       "  </thead>\n",
       "  <tbody>\n",
       "    <tr>\n",
       "      <th>0</th>\n",
       "      <td>Allen St &amp; Hester St</td>\n",
       "      <td>0</td>\n",
       "      <td>Spring</td>\n",
       "      <td>Weekend</td>\n",
       "      <td>1</td>\n",
       "      <td>0.0</td>\n",
       "      <td>0.0</td>\n",
       "      <td>1.0</td>\n",
       "      <td>0.0</td>\n",
       "    </tr>\n",
       "    <tr>\n",
       "      <th>1</th>\n",
       "      <td>Allen St &amp; Hester St</td>\n",
       "      <td>1</td>\n",
       "      <td>Spring</td>\n",
       "      <td>Weekend</td>\n",
       "      <td>1</td>\n",
       "      <td>0.0</td>\n",
       "      <td>0.0</td>\n",
       "      <td>1.0</td>\n",
       "      <td>0.0</td>\n",
       "    </tr>\n",
       "    <tr>\n",
       "      <th>2</th>\n",
       "      <td>Allen St &amp; Hester St</td>\n",
       "      <td>2</td>\n",
       "      <td>Spring</td>\n",
       "      <td>Weekend</td>\n",
       "      <td>1</td>\n",
       "      <td>0.0</td>\n",
       "      <td>0.0</td>\n",
       "      <td>1.0</td>\n",
       "      <td>0.0</td>\n",
       "    </tr>\n",
       "    <tr>\n",
       "      <th>3</th>\n",
       "      <td>Allen St &amp; Hester St</td>\n",
       "      <td>3</td>\n",
       "      <td>Spring</td>\n",
       "      <td>Weekend</td>\n",
       "      <td>1</td>\n",
       "      <td>0.0</td>\n",
       "      <td>0.0</td>\n",
       "      <td>1.0</td>\n",
       "      <td>0.0</td>\n",
       "    </tr>\n",
       "    <tr>\n",
       "      <th>4</th>\n",
       "      <td>Allen St &amp; Hester St</td>\n",
       "      <td>4</td>\n",
       "      <td>Spring</td>\n",
       "      <td>Weekend</td>\n",
       "      <td>1</td>\n",
       "      <td>0.0</td>\n",
       "      <td>0.0</td>\n",
       "      <td>1.0</td>\n",
       "      <td>0.0</td>\n",
       "    </tr>\n",
       "  </tbody>\n",
       "</table>\n",
       "</div>"
      ],
      "text/plain": [
       "           station_name  timeofday  season typeofday  has_bike  is_Weekday  \\\n",
       "0  Allen St & Hester St          0  Spring   Weekend         1         0.0   \n",
       "1  Allen St & Hester St          1  Spring   Weekend         1         0.0   \n",
       "2  Allen St & Hester St          2  Spring   Weekend         1         0.0   \n",
       "3  Allen St & Hester St          3  Spring   Weekend         1         0.0   \n",
       "4  Allen St & Hester St          4  Spring   Weekend         1         0.0   \n",
       "\n",
       "   is_Fall  is_Spring  is_Summer  \n",
       "0      0.0        1.0        0.0  \n",
       "1      0.0        1.0        0.0  \n",
       "2      0.0        1.0        0.0  \n",
       "3      0.0        1.0        0.0  \n",
       "4      0.0        1.0        0.0  "
      ]
     },
     "execution_count": 60,
     "metadata": {},
     "output_type": "execute_result"
    }
   ],
   "source": [
    "df = _temp.copy()\n",
    "df.head()"
   ]
  },
  {
   "cell_type": "markdown",
   "metadata": {},
   "source": [
    "# Logistic Regression "
   ]
  },
  {
   "cell_type": "code",
   "execution_count": 61,
   "metadata": {
    "collapsed": true
   },
   "outputs": [],
   "source": [
    "from sklearn.linear_model import LogisticRegression"
   ]
  },
  {
   "cell_type": "code",
   "execution_count": 69,
   "metadata": {
    "collapsed": false
   },
   "outputs": [
    {
     "name": "stdout",
     "output_type": "stream",
     "text": [
      "Logistic Regression Score: 0.615095628415\n"
     ]
    }
   ],
   "source": [
    "lm = LogisticRegression()\n",
    "X = df[['timeofday','is_Weekday','is_Fall','is_Summer','is_Spring']]\n",
    "y = df.has_bike\n",
    "lm.fit(X, y)\n",
    "print \"Logistic Regression Score:\", lm.score(X,y)"
   ]
  },
  {
   "cell_type": "code",
   "execution_count": 63,
   "metadata": {
    "collapsed": false
   },
   "outputs": [],
   "source": [
    "df_lm = _temp.copy()\n",
    "df_lm['probability'] = lm.predict_proba(X)[:,1]"
   ]
  },
  {
   "cell_type": "code",
   "execution_count": 64,
   "metadata": {
    "collapsed": false
   },
   "outputs": [],
   "source": [
    "groups = df_lm.groupby('is_Weekday')"
   ]
  },
  {
   "cell_type": "code",
   "execution_count": 65,
   "metadata": {
    "collapsed": false
   },
   "outputs": [],
   "source": [
    "groups2 = df_lm.groupby(['typeofday','season'])"
   ]
  },
  {
   "cell_type": "code",
   "execution_count": 66,
   "metadata": {
    "collapsed": false
   },
   "outputs": [
    {
     "data": {
      "image/png": "[encoded data removed]",
      "text/plain": [
       "<matplotlib.figure.Figure at 0x11f6ef210>"
      ]
     },
     "metadata": {},
     "output_type": "display_data"
    }
   ],
   "source": [
    "#Graphing out probability of a bike being available\n",
    "days = {('Weekday','Fall'): 'Fall Weekday', ('Weekend','Fall'): 'Fall Weekend', \n",
    "        ('Weekday','Summer'): 'Summer Weekday', ('Weekend','Summer'): 'Summer Weekend', \n",
    "        ('Weekday','Spring'): 'Spring Weekday', ('Weekend','Spring'): 'Spring Weekend', \n",
    "        ('Weekday','Winter'): 'Winter Weekday', ('Weekend','Winter'): 'Winter Weekend'}\n",
    "\n",
    "fig, ax = plt.subplots(figsize=(6,6))\n",
    "for name, group in groups2:\n",
    "    ax.plot(group.timeofday, group.probability, marker='o', markersize=1, linestyle='-', label=days[name])\n",
    "ax.legend(loc='upper right')\n",
    "plt.title('Logistic Regression: Probability of Bike\\n Based on Type of Day, Season, and Time of Day')\n",
    "plt.ylabel('Probability')\n",
    "plt.xlabel('Time of Day')\n",
    "plt.show()"
   ]
  },
  {
   "cell_type": "markdown",
   "metadata": {},
   "source": [
    "# Cross Validation"
   ]
  },
  {
   "cell_type": "code",
   "execution_count": 76,
   "metadata": {
    "collapsed": true
   },
   "outputs": [],
   "source": [
    "from sklearn.cross_validation import KFold\n",
    "from sklearn.grid_search import GridSearchCV\n",
    "from sklearn.neighbors import KNeighborsClassifier\n",
    "params = {'weights':['distance'], 'n_neighbors': range(1,100,2)}\n",
    "kf = KFold(len(df),n_folds = 10)\n",
    "cv = GridSearchCV(\n",
    "    estimator=KNeighborsClassifier(),\n",
    "    param_grid=params,\n",
    "    cv = kf,\n",
    ")\n",
    "cv.fit(X,y)\n",
    "_ = cv.grid_scores_"
   ]
  },
  {
   "cell_type": "code",
   "execution_count": 81,
   "metadata": {
    "collapsed": false
   },
   "outputs": [
    {
     "name": "stdout",
     "output_type": "stream",
     "text": [
      "{'n_neighbors': 29, 'weights': 'distance'}\n",
      "Cross Validation score: 0.627276867031\n"
     ]
    }
   ],
   "source": [
    "print cv.best_params_\n",
    "print \"Cross Validation score:\",cv.best_score_"
   ]
  },
  {
   "cell_type": "markdown",
   "metadata": {},
   "source": [
    "# Random Forest"
   ]
  },
  {
   "cell_type": "code",
   "execution_count": 67,
   "metadata": {
    "collapsed": true
   },
   "outputs": [],
   "source": [
    "from sklearn.ensemble import RandomForestClassifier"
   ]
  },
  {
   "cell_type": "code",
   "execution_count": 87,
   "metadata": {
    "collapsed": false
   },
   "outputs": [
    {
     "name": "stdout",
     "output_type": "stream",
     "text": [
      "Random Forest Classifier Score: 0.653574681239\n",
      "Random Forest Classifier Area under Curve: 0.669988405118\n"
     ]
    }
   ],
   "source": [
    "from sklearn.metrics import roc_auc_score\n",
    "rf = RandomForestClassifier(n_estimators=20,max_depth=5,min_samples_leaf=50)\n",
    "rf.fit(X,y)\n",
    "probs = rf.predict_proba(X)[:,1]\n",
    "print 'Random Forest Classifier Score:', rf.score(X,y)\n",
    "print 'Random Forest Classifier Area under Curve:', roc_auc_score(y,probs)"
   ]
  },
  {
   "cell_type": "code",
   "execution_count": 88,
   "metadata": {
    "collapsed": false
   },
   "outputs": [],
   "source": [
    "df_rf = df.copy()"
   ]
  },
  {
   "cell_type": "code",
   "execution_count": 89,
   "metadata": {
    "collapsed": false
   },
   "outputs": [],
   "source": [
    "df_rf['probability'] = rf.predict_proba(X)[:,1]\n",
    "groups3 = df_rf.groupby(['typeofday','season'])"
   ]
  },
  {
   "cell_type": "code",
   "execution_count": 90,
   "metadata": {
    "collapsed": false
   },
   "outputs": [
    {
     "data": {
      "image/png": "[encoded data removed]",
      "text/plain": [
       "<matplotlib.figure.Figure at 0x130e79a50>"
      ]
     },
     "metadata": {},
     "output_type": "display_data"
    }
   ],
   "source": [
    "#Graphing out probability of a bike being available\n",
    "days = {('Weekday','Fall'): 'Fall Weekday', ('Weekend','Fall'): 'Fall Weekend', \n",
    "        ('Weekday','Summer'): 'Summer Weekday', ('Weekend','Summer'): 'Summer Weekend', \n",
    "        ('Weekday','Spring'): 'Spring Weekday', ('Weekend','Spring'): 'Spring Weekend', \n",
    "        ('Weekday','Winter'): 'Winter Weekday', ('Weekend','Winter'): 'Winter Weekend'}\n",
    "\n",
    "fig, ax = plt.subplots(figsize=(8,8))\n",
    "for name, group in groups3:\n",
    "    ax.plot(group.timeofday, group.probability, marker='o', markersize=6, linestyle='', label=days[name])\n",
    "ax.legend(loc='lower left')\n",
    "plt.title('Random Forest: Probability of Bike\\n Based on Type of Day, Season, and Time of Day\\nHester and Allen')\n",
    "plt.ylabel('Probability')\n",
    "plt.xlabel('Time of Day')\n",
    "plt.show()"
   ]
  },
  {
   "cell_type": "markdown",
   "metadata": {
    "collapsed": false
   },
   "source": [
    "# Conclusions"
   ]
  },
  {
   "cell_type": "markdown",
   "metadata": {
    "collapsed": false
   },
   "source": [
    "With the different models we can make predictions on if there is a bike available:"
   ]
  },
  {
   "cell_type": "code",
   "execution_count": 99,
   "metadata": {
    "collapsed": false
   },
   "outputs": [
    {
     "name": "stdout",
     "output_type": "stream",
     "text": [
      "Bike availability predictions for 10am on a Weekday in the Summer:\n",
      "Linear model prediction: [1]\n",
      "Cross validation model prediction: [0]\n",
      "Random forest model prediction: [0]\n"
     ]
    },
    {
     "name": "stderr",
     "output_type": "stream",
     "text": [
      "/Users/JToyoshima/anaconda/lib/python2.7/site-packages/sklearn/utils/validation.py:386: DeprecationWarning: Passing 1d arrays as data is deprecated in 0.17 and willraise ValueError in 0.19. Reshape your data either using X.reshape(-1, 1) if your data has a single feature or X.reshape(1, -1) if it contains a single sample.\n",
      "  DeprecationWarning)\n",
      "/Users/JToyoshima/anaconda/lib/python2.7/site-packages/sklearn/utils/validation.py:386: DeprecationWarning: Passing 1d arrays as data is deprecated in 0.17 and willraise ValueError in 0.19. Reshape your data either using X.reshape(-1, 1) if your data has a single feature or X.reshape(1, -1) if it contains a single sample.\n",
      "  DeprecationWarning)\n",
      "/Users/JToyoshima/anaconda/lib/python2.7/site-packages/sklearn/utils/validation.py:386: DeprecationWarning: Passing 1d arrays as data is deprecated in 0.17 and willraise ValueError in 0.19. Reshape your data either using X.reshape(-1, 1) if your data has a single feature or X.reshape(1, -1) if it contains a single sample.\n",
      "  DeprecationWarning)\n"
     ]
    }
   ],
   "source": [
    "print \"Bike availability predictions for 10am on a Weekday in the Summer:\"\n",
    "print \"Linear model prediction:\", lm.predict([10,1,0,1,0])\n",
    "print \"Cross validation model prediction:\", cv.predict([10,1,0,1,0])\n",
    "print \"Random forest model prediction:\", rf.predict([10,1,0,1,0])"
   ]
  },
  {
   "cell_type": "markdown",
   "metadata": {
    "collapsed": true
   },
   "source": [
    "There are various improvements that can be made to the models which include incorporating weather data, seperating out holidays, and considering nearby stations bike availability.\n",
    "\n",
    "The biggest concern of the project is that the dependent outcome (bike availability) was determined by estimations and assumptions. This can be improved by training over live data (https://feeds.citibikenyc.com/stations/stations.json) and tweaking assumptions made."
   ]
  },
  {
   "cell_type": "code",
   "execution_count": null,
   "metadata": {
    "collapsed": true
   },
   "outputs": [],
   "source": []
  }
 ],
 "metadata": {
  "kernelspec": {
   "display_name": "Python 2",
   "language": "python",
   "name": "python2"
  },
  "language_info": {
   "codemirror_mode": {
    "name": "ipython",
    "version": 2
   },
   "file_extension": ".py",
   "mimetype": "text/x-python",
   "name": "python",
   "nbconvert_exporter": "python",
   "pygments_lexer": "ipython2",
   "version": "2.7.11"
  }
 },
 "nbformat": 4,
 "nbformat_minor": 0
}
